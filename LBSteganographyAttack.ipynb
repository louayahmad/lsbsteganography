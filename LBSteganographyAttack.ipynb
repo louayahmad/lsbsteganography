{
  "nbformat": 4,
  "nbformat_minor": 0,
  "metadata": {
    "colab": {
      "name": "Copy of Copy of vggpretrainednetwork.ipynb",
      "provenance": []
    },
    "kernelspec": {
      "display_name": "Python 3",
      "name": "python3"
    },
    "language_info": {
      "name": "python"
    }
  },
  "cells": [
    {
      "cell_type": "code",
      "metadata": {
        "id": "rn1WsRW9KYUk"
      },
      "source": [
        "from keras.applications.vgg16 import VGG16\n",
        "model = VGG16()"
      ],
      "execution_count": null,
      "outputs": []
    },
    {
      "cell_type": "code",
      "metadata": {
        "id": "LULn8SC6Ke6z"
      },
      "source": [
        "from keras.applications.vgg16 import VGG16\n",
        "model = VGG16()\n",
        "print(model.summary())"
      ],
      "execution_count": null,
      "outputs": []
    },
    {
      "cell_type": "code",
      "metadata": {
        "id": "XjK9KdEsKnsL"
      },
      "source": [
        "from keras.applications.vgg16 import VGG16\n",
        "from keras.utils.vis_utils import plot_model\n",
        "model = VGG16()\n",
        "plot_model(model, to_file='vgg.png')"
      ],
      "execution_count": null,
      "outputs": []
    },
    {
      "cell_type": "code",
      "metadata": {
        "id": "veePdxHickIX"
      },
      "source": [
        "!unzip /content/images1.zip\n"
      ],
      "execution_count": null,
      "outputs": []
    },
    {
      "cell_type": "markdown",
      "metadata": {
        "id": "Tc1fXMYrJxtH"
      },
      "source": [
        "Randomizing choices using dictionary to insert messages in randomly chosen images and use those images to misclassify them. "
      ]
    },
    {
      "cell_type": "code",
      "metadata": {
        "id": "L2zEtdq8gH5G"
      },
      "source": [
        "import random, os\n",
        "from keras.preprocessing.image import load_img\n",
        "from keras.preprocessing.image import img_to_array\n",
        "from keras.applications.vgg16 import preprocess_input\n",
        "from keras.applications.vgg16 import decode_predictions\n",
        "from keras.applications.vgg16 import VGG16\n",
        "import cv2"
      ],
      "execution_count": null,
      "outputs": []
    },
    {
      "cell_type": "code",
      "metadata": {
        "id": "RMKVQSNjjW-B"
      },
      "source": [
        "import cv2\n",
        "import numpy as np\n",
        "import types\n",
        "from google.colab.patches import cv2_imshow "
      ],
      "execution_count": null,
      "outputs": []
    },
    {
      "cell_type": "code",
      "metadata": {
        "id": "0OB-6rfKdkAf"
      },
      "source": [
        "path = r\"/content/images\"\n",
        "classify = {\"File Name\":[],\"Classification\":[]};\n",
        "\n",
        "for file_name in range(22):\n",
        "  random_filename = random.choice([\n",
        "    x for x in os.listdir(path)\n",
        "    if os.path.isfile(os.path.join(path, x))\n",
        "])\n",
        "  print(random_filename)\n",
        "\n",
        "  image = load_img('/content/images/' + random_filename, target_size=(224, 224))\n",
        "  # convert the image pixels to a numpy array\n",
        "  image = img_to_array(image)\n",
        "  # reshape data for the model\n",
        "  image = image.reshape((1, image.shape[0], image.shape[1], image.shape[2]))\n",
        "  # prepare the image for the VGG model\n",
        "  image = preprocess_input(image)\n",
        "  # predict the probability across all output classes\n",
        "  yhat = model.predict(image)\n",
        "  # convert the probabilities to class labels\n",
        "  label = decode_predictions(yhat)\n",
        "  # retrieve the most likely result, e.g. highest probability\n",
        "  label = label[0][0]\n",
        "  # print the classification\n",
        "  classifications = '%s (%.2f%%)' % (label[1], label[2]*100)\n",
        "  print(classifications) \n",
        "\n",
        "  classify[\"File Name\"].append('/content/images/'+random_filename)\n",
        "  classify[\"Classification\"].append('%s (%.2f%%)' % (label[1], label[2]*100))"
      ],
      "execution_count": null,
      "outputs": []
    },
    {
      "cell_type": "code",
      "metadata": {
        "colab": {
          "base_uri": "https://localhost:8080/"
        },
        "id": "xalXHeFU4uT5",
        "outputId": "8d3834a6-4a72-4941-d72f-ddf37ed7d12d"
      },
      "source": [
        "print(classify)"
      ],
      "execution_count": null,
      "outputs": [
        {
          "output_type": "stream",
          "text": [
            "{'File Name': ['/content/images/22.jpg', '/content/images/14.jpg', '/content/images/20.jpg', '/content/images/5.jpg', '/content/images/13.jpg', '/content/images/18.jpg', '/content/images/20.jpg', '/content/images/12.jpg', '/content/images/1.jpg', '/content/images/12.jpg', '/content/images/14.jpg', '/content/images/6.jpg', '/content/images/8.jpg', '/content/images/5.jpg', '/content/images/15.jpg', '/content/images/8.jpg', '/content/images/4.jpg', '/content/images/18.jpg', '/content/images/20.jpg', '/content/images/4.jpg', '/content/images/13.jpg', '/content/images/12.jpg'], 'Classification': ['sports_car (94.98%)', 'skunk (6.22%)', 'Egyptian_cat (18.71%)', 'tabby (20.84%)', 'tabby (12.44%)', 'Rottweiler (18.38%)', 'Egyptian_cat (18.71%)', 'German_shepherd (78.07%)', 'Italian_greyhound (25.17%)', 'German_shepherd (78.07%)', 'skunk (6.22%)', 'tabby (47.87%)', 'Egyptian_cat (15.17%)', 'tabby (20.84%)', 'tabby (28.22%)', 'Egyptian_cat (15.17%)', 'chow (67.59%)', 'Rottweiler (18.38%)', 'Egyptian_cat (18.71%)', 'chow (67.59%)', 'tabby (12.44%)', 'German_shepherd (78.07%)']}\n"
          ],
          "name": "stdout"
        }
      ]
    },
    {
      "cell_type": "markdown",
      "metadata": {
        "id": "vruqxHkcJqMz"
      },
      "source": [
        "Starting LSB STEG:"
      ]
    },
    {
      "cell_type": "code",
      "metadata": {
        "id": "icSQiAQh157F"
      },
      "source": [
        "def convertmsgtobinary(message):\n",
        "  if type(message) == str:\n",
        "    return ''.join([ format(ord(i), \"08b\") for i in message ])\n",
        "  elif type(message) == bytes or type(message) == np.ndarray:\n",
        "    return [ format(i, \"08b\") for i in message ]\n",
        "  elif type(message) == int or type(message) == np.uint8:\n",
        "    return format(message, \"08b\")\n",
        "  else:\n",
        "    raise TypeError(\"input not supported, try something else\")"
      ],
      "execution_count": 2,
      "outputs": []
    },
    {
      "cell_type": "code",
      "metadata": {
        "id": "2lthoii9hfIo"
      },
      "source": [
        "# Function to hide the secret message into the image\n",
        "\n",
        "def hideData(image, secret_message):\n",
        "\n",
        "  # calculate the maximum bytes to encode\n",
        "  n_bytes = image.shape[0] * image.shape[1] * 3 // 8\n",
        "  print(\"Maximum bytes to encode:\", n_bytes)\n",
        "\n",
        "  #Check if the number of bytes to encode is less than the maximum bytes in the image\n",
        "  if len(secret_message) > n_bytes:\n",
        "      raise ValueError(\"Error encountered insufficient bytes, need bigger image or less data !!\")\n",
        "  \n",
        "  secret_message += \"#####\" # you can use any string as the delimeter\n",
        "\n",
        "  data_index = 0\n",
        "  # convert input data to binary format using messageToBinary() fucntion\n",
        "  binary_secret_msg = convertmsgtobinary(secret_message)\n",
        "\n",
        "  data_len = len(binary_secret_msg) #Find the length of data that needs to be hidden\n",
        "  for values in image:\n",
        "      for pixel in values:\n",
        "          # convert RGB values to binary format\n",
        "          r, g, b = convertmsgtobinary(pixel)\n",
        "          # modify the least significant bit only if there is still data to store\n",
        "          if data_index < data_len:\n",
        "              # hide the data into least significant bit of red pixel\n",
        "              pixel[0] = int(r[:-1] + binary_secret_msg[data_index], 2)\n",
        "              data_index += 1\n",
        "          if data_index < data_len:\n",
        "              # hide the data into least significant bit of green pixel\n",
        "              pixel[1] = int(g[:-1] + binary_secret_msg[data_index], 2)\n",
        "              data_index += 1\n",
        "          if data_index < data_len:\n",
        "              # hide the data into least significant bit of  blue pixel\n",
        "              pixel[2] = int(b[:-1] + binary_secret_msg[data_index], 2)\n",
        "              data_index += 1\n",
        "          # if data is encoded, just break out of the loop\n",
        "          if data_index >= data_len:\n",
        "              break\n",
        "\n",
        "  return image"
      ],
      "execution_count": null,
      "outputs": []
    },
    {
      "cell_type": "code",
      "metadata": {
        "id": "eU0OWuqp9e_7"
      },
      "source": [
        "def showData(image):\n",
        "  binary_data = \"\"\n",
        "  for values in image:\n",
        "      for pixel in values:\n",
        "          r, g, b = convertmsgtobinary(pixel) \n",
        "          binary_data += r[-1] \n",
        "          binary_data += g[-1] \n",
        "          binary_data += b[-1] \n",
        "  all_bytes = [ binary_data[i: i+8] for i in range(0, len(binary_data), 8) ]\n",
        "  decoded_data = \"\"\n",
        "  for byte in all_bytes:\n",
        "      decoded_data += chr(int(byte, 2))\n",
        "      if decoded_data[-5:] == \"#####\": \n",
        "          break\n",
        "  return decoded_data[:-5] "
      ],
      "execution_count": null,
      "outputs": []
    },
    {
      "cell_type": "code",
      "metadata": {
        "colab": {
          "base_uri": "https://localhost:8080/"
        },
        "id": "ixWYP3SSBswY",
        "outputId": "cb1f44f9-3371-4ec3-c7cb-f22a014e903d"
      },
      "source": [
        "#generating a random number to use as a random dictionary index from above\n",
        "from random import seed\n",
        "from random import randint\n",
        "\n",
        "for _ in range(1):\n",
        "\tvalue = randint(0, 19)\n",
        "\tprint(value)"
      ],
      "execution_count": null,
      "outputs": [
        {
          "output_type": "stream",
          "text": [
            "0\n"
          ],
          "name": "stdout"
        }
      ]
    },
    {
      "cell_type": "code",
      "metadata": {
        "colab": {
          "base_uri": "https://localhost:8080/"
        },
        "id": "UcywK407E74t",
        "outputId": "8ada5534-d78c-4b60-874d-32b5bc82cd2c"
      },
      "source": [
        "path = (classify[\"File Name\"][value])\n",
        "print(str(path))"
      ],
      "execution_count": null,
      "outputs": [
        {
          "output_type": "stream",
          "text": [
            "/content/images/22.jpg\n"
          ],
          "name": "stdout"
        }
      ]
    },
    {
      "cell_type": "code",
      "metadata": {
        "id": "Brvnf50f9hdE"
      },
      "source": [
        "import random\n",
        "\n",
        "def encodingtxt():  \n",
        "  image = cv2.imread(path) # Read the input image using OpenCV-Python.\n",
        "  \n",
        "  print(\"The original image is as shown below: \")\n",
        "  resized_image = cv2.resize(image, (500, 500)) \n",
        "  cv2_imshow(resized_image)"
      ],
      "execution_count": null,
      "outputs": []
    },
    {
      "cell_type": "code",
      "metadata": {
        "id": "Fj0yRN2RAfTV"
      },
      "source": [
        "def datainput():\n",
        "  image = cv2.imread(path) \n",
        "\n",
        "  data1 = input(\"Data you want encoded : \") \n",
        "  if (len(data1) == 0): \n",
        "    raise ValueError('Data is empty')\n",
        "  \n",
        "  filename = input(\"Name of the new encoded image: \")\n",
        "  encoded_image = hideData(image, data1)\n",
        "  cv2.imwrite(filename, encoded_image)"
      ],
      "execution_count": null,
      "outputs": []
    },
    {
      "cell_type": "code",
      "metadata": {
        "id": "zLJA2MXaIQhR"
      },
      "source": [
        " def decodingtxt():\n",
        "  image_name = input(\"Name of image that you want to decode:\") \n",
        "  image = cv2.imread(image_name) \n",
        "\n",
        "  print(\"Steganograph image: \")\n",
        "  resized_image = cv2.resize(image, (500, 500))  \n",
        "  cv2_imshow(resized_image) \n",
        "    \n",
        "  text = showData(image)\n",
        "  return text"
      ],
      "execution_count": null,
      "outputs": []
    },
    {
      "cell_type": "code",
      "metadata": {
        "id": "oyjumATX-sC5"
      },
      "source": [
        "def lsbsteg(): \n",
        "    a = input(\"Type '1' to encode the data or type '2' to decode the data \\n input: \")\n",
        "    userinput = int(a)\n",
        "    if (userinput == 1):\n",
        "      print(\"\\nThe image is now being encoded....\")\n",
        "      encodingtxt() \n",
        "          \n",
        "    elif (userinput == 2):\n",
        "      print(\"\\nThe image is now being decoded....\") \n",
        "      print(\"The message is \" + decodingtxt()) \n",
        "    else: \n",
        "        raise Exception(\"Enter correct input\") \n",
        "          \n",
        "lsbsteg()"
      ],
      "execution_count": null,
      "outputs": []
    },
    {
      "cell_type": "code",
      "metadata": {
        "id": "SEdjjy6cipvo"
      },
      "source": [
        "datainput()"
      ],
      "execution_count": null,
      "outputs": []
    },
    {
      "cell_type": "code",
      "metadata": {
        "id": "_NQADxEvKkEh"
      },
      "source": [
        "def datainput2():\n",
        "  image = cv2.imread(path) \n",
        "\n",
        "  data = classify['Classification'][value]\n",
        "  if (len(data) == 0): \n",
        "    raise ValueError('Data is empty')\n",
        "  \n",
        "  filename = input(\"Name of the new encoded image: \")\n",
        "  encoded_image = hideData(image, data)\n",
        "  cv2.imwrite(filename, encoded_image)\n",
        "  print(data)"
      ],
      "execution_count": 4,
      "outputs": []
    },
    {
      "cell_type": "code",
      "metadata": {
        "id": "yF7RsjYWKwAT"
      },
      "source": [
        "#This shows how one can easily change the classification of an image using a steg attack. You can input a false message or false classification \n",
        "#of an image inside certain bits of the photo after the network has been trained. \n",
        "image = cv2.imread(path) # Read the input image using OpenCV-Python.\n",
        "  \n",
        "print(\"The original image is as shown below: \")\n",
        "resized_image = cv2.resize(image, (500, 500)) \n",
        "cv2_imshow(resized_image)\n",
        "print(classify['File Name'][value])\n",
        "print(classify['Classification'][value])"
      ],
      "execution_count": null,
      "outputs": []
    },
    {
      "cell_type": "code",
      "metadata": {
        "id": "xuL9LThhjzWZ"
      },
      "source": [
        "#Now we will use a targeted attack to change the classification of the image.\n",
        "import random\n",
        "\n",
        "def lsbsteg1(): \n",
        "    a = input(\"Type '1' to encode the data or type '2' to decode the data Type '3' to misclassify image \\n input: \")\n",
        "    userinput = int(a)\n",
        "    if (userinput == 1):\n",
        "      print(\"\\nThe image is now being encoded....\")\n",
        "      encodingtxt() \n",
        "\n",
        "      datainput1()\n",
        "          \n",
        "    elif (userinput == 2):\n",
        "      print(\"\\nThe image is now being decoded....\") \n",
        "      print(\"The message is \" + decodingtxt())\n",
        "\n",
        "    elif (userinput == 3): \n",
        "      print('Targeting image: ' + path) \n",
        "      #targeted attack to change the classification of image after being trained and placed into a dictionary\n",
        "      if (classify[\"Classification\"][value] == 'golden_retriever (54.51%)'):\n",
        "        classify[\"Classification\"][value] = 'British Short Hair'\n",
        "        print(\"Image now misclasified as a British Short Hair, instead of a Golden Retriever, as shown in the neural network.\")\n",
        "        image = cv2.imread(path) # Read the input image using OpenCV-Python.\n",
        "  \n",
        "        print(\"The original image is as shown below: \")\n",
        "        resized_image = cv2.resize(image, (500, 500)) \n",
        "        cv2_imshow(resized_image)\n",
        "\n",
        "        print('This is an image of a '+ classify['Classification'][value])\n",
        "      else:\n",
        "        print('not the right image')\n",
        "\n",
        "    else: \n",
        "        raise Exception(\"Enter correct input\") \n",
        "\n",
        "    random_labels = ['Frog', 'Sheep', 'Pig', 'Horse', 'Bee']\n",
        "\n",
        "    data = classify['Classification'][value]\n",
        "    if (userinput == 1):\n",
        "      classify['Classification'][value] == random.choice(random_labels)\n",
        "      print(random.choice(random_labels))\n",
        "\n",
        "    if classify['Classification'][value] == data:\n",
        "      print('This is a picture of a ' + data)\n",
        "\n",
        "    else: \n",
        "      image = load_img('/content/goldenret.jpg',target_size=(224, 224))\n",
        "      # convert the image pixels to a numpy array\n",
        "      image = img_to_array(image)\n",
        "      # reshape data for the model\n",
        "      image = image.reshape((1, image.shape[0], image.shape[1], image.shape[2]))\n",
        "      # prepare the image for the VGG model\n",
        "      image = preprocess_input(image)\n",
        "      # predict the probability across all output classes\n",
        "      yhat = model.predict(image)\n",
        "      # convert the probabilities to class labels\n",
        "      label = decode_predictions(yhat)\n",
        "      # retrieve the most likely result, e.g. highest probability\n",
        "      label = label[0][0]\n",
        "      # print the classification\n",
        "      classifications = '%s (%.2f%%)' % (label[1], label[2]*100)\n",
        "      print(classifications) \n",
        "          \n",
        "lsbsteg1()"
      ],
      "execution_count": null,
      "outputs": []
    },
    {
      "cell_type": "code",
      "metadata": {
        "id": "4KVMCMHny8cS"
      },
      "source": [
        "print(classify)"
      ],
      "execution_count": null,
      "outputs": []
    }
  ]
}